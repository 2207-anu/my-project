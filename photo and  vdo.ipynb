{
 "cells": [
  {
   "cell_type": "code",
   "execution_count": 2,
   "id": "78f6a6dc-f33c-47f2-8573-08eea6d351f5",
   "metadata": {},
   "outputs": [],
   "source": [
    "import cv2"
   ]
  },
  {
   "cell_type": "code",
   "execution_count": 3,
   "id": "b9c97219-aa44-435c-960a-98452a563f32",
   "metadata": {},
   "outputs": [],
   "source": [
    "cap = cv2.VideoCapture(0)"
   ]
  },
  {
   "cell_type": "code",
   "execution_count": 4,
   "id": "feb1b513-3828-4c61-9dbb-cf47c9a941d1",
   "metadata": {},
   "outputs": [],
   "source": [
    "status , photo = cap.read()"
   ]
  },
  {
   "cell_type": "code",
   "execution_count": 5,
   "id": "d7404d43-3acf-4e48-9f00-23fe0aaaa94a",
   "metadata": {},
   "outputs": [
    {
     "data": {
      "text/plain": [
       "True"
      ]
     },
     "execution_count": 5,
     "metadata": {},
     "output_type": "execute_result"
    }
   ],
   "source": [
    "status"
   ]
  },
  {
   "cell_type": "code",
   "execution_count": 6,
   "id": "717ff668-9009-424e-af72-5c51dcfd52bc",
   "metadata": {},
   "outputs": [
    {
     "data": {
      "text/plain": [
       "True"
      ]
     },
     "execution_count": 6,
     "metadata": {},
     "output_type": "execute_result"
    }
   ],
   "source": [
    "cv2.imwrite(\"anu.png\" , photo)"
   ]
  },
  {
   "cell_type": "code",
   "execution_count": 9,
   "id": "fb7ac7e7-44b1-42f0-b2b8-9c25d675712f",
   "metadata": {},
   "outputs": [],
   "source": [
    "while True:\n",
    "    status , photo = cap.read()\n",
    "    cv2.imshow(\"my photo\" , photo)\n",
    "\n",
    "    if cv2.waitKey(50) == 13:\n",
    "        break\n",
    "    \n",
    "cv2.destroyAllWindows()"
   ]
  },
  {
   "cell_type": "code",
   "execution_count": null,
   "id": "46495e96-5ddb-49b9-b30b-005e4ad117d2",
   "metadata": {},
   "outputs": [],
   "source": [
    "photo[0,0]"
   ]
  },
  {
   "cell_type": "code",
   "execution_count": null,
   "id": "2da20b99-e2eb-4523-b480-2c65509c4bb5",
   "metadata": {},
   "outputs": [],
   "source": [
    "photo.ndim"
   ]
  },
  {
   "cell_type": "code",
   "execution_count": null,
   "id": "18bc1c92-4b9d-41f4-8598-60b40adc7111",
   "metadata": {},
   "outputs": [],
   "source": [
    "photo.shape"
   ]
  },
  {
   "cell_type": "code",
   "execution_count": null,
   "id": "1448b349-caf4-4e19-9f17-8a5db896e07c",
   "metadata": {},
   "outputs": [],
   "source": [
    "cap.release()"
   ]
  },
  {
   "cell_type": "code",
   "execution_count": null,
   "id": "5bf9ad58-1b3a-442b-b3d8-e93bda8c6a6b",
   "metadata": {},
   "outputs": [],
   "source": [
    "n = 0\n",
    "\n",
    "while n < 10:\n",
    "    print(\"Hello\")\n",
    "    n = n+1\n"
   ]
  },
  {
   "cell_type": "code",
   "execution_count": null,
   "id": "342a21e1-0217-445e-b0c8-415563c8f898",
   "metadata": {},
   "outputs": [],
   "source": []
  }
 ],
 "metadata": {
  "kernelspec": {
   "display_name": "Python 3 (ipykernel)",
   "language": "python",
   "name": "python3"
  },
  "language_info": {
   "codemirror_mode": {
    "name": "ipython",
    "version": 3
   },
   "file_extension": ".py",
   "mimetype": "text/x-python",
   "name": "python",
   "nbconvert_exporter": "python",
   "pygments_lexer": "ipython3",
   "version": "3.12.7"
  }
 },
 "nbformat": 4,
 "nbformat_minor": 5
}
